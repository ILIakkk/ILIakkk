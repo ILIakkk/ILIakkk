{
 "cells": [
  {
   "cell_type": "markdown",
   "id": "08693d72-2084-4bf2-8c0e-49f72b5746fb",
   "metadata": {},
   "source": [
    "Numpy - это библиотека python для удобной и быстрой работой над операциями с матрицами"
   ]
  },
  {
   "cell_type": "code",
   "execution_count": 2,
   "id": "a36b6df9-9073-4314-ba0f-c531e7538701",
   "metadata": {},
   "outputs": [],
   "source": [
    "import numpy as np"
   ]
  },
  {
   "cell_type": "markdown",
   "id": "f1cf6ba0-484a-441b-b332-464d3cb434e3",
   "metadata": {},
   "source": [
    "dim - ранг массива (например, двухмерный массив имеет второй ранг)\n",
    "dtype - задает тип данных в матрице\n",
    "shape - размер массива (кортеж), можно передавать как с круглыми, так и с квадратными скобками\n",
    "(reshape применяется только если после операции кол-во элементов в матрице будет равно изначальному)\n",
    "size - кол-во элементов в массиве\n",
    "(не безопасная версия shape, ему плевать на кол-во элементовв, он либо их урежет, либо добавит нули в недостающее место)\n",
    "axis - оси матрицы (axis = 0 это столбцы, axis = 1, это строки)"
   ]
  },
  {
   "cell_type": "code",
   "execution_count": 3,
   "id": "03e7f026-ac07-40dd-87d5-362506390946",
   "metadata": {},
   "outputs": [],
   "source": [
    "matrix = np.array([2, 4, 5], dtype=int) #dtype устанавливает тип данных в матрице\n",
    "matrix = np.arange(10, 20) # как range\n",
    "\n",
    "matrix_1d = np.arange(8)\n",
    "matrix_2d = np.arange(8).reshape(2, 4)\n",
    "matrix_3d = np.arange(12).reshape(3, 2, 2)\n",
    "matrix_4d = np.arange(96).reshape(2, 3, 4, 4) #четырех мерная матрица\n",
    "\n",
    "#print(matrix_4d, end='\\n\\n\\n')\n",
    "\n",
    "np.ones((2, 2)) #создает матрицу из еденичек, размером shape\n",
    "np.zeros((1, 10))\n",
    "np.empty((1, 1))\n",
    "a = np.full([1, 3, 4], 7)\n",
    "\n",
    "np.zeros_like(matrix_2d) #создает матрицу из нулей с размером заданной матрицы\n",
    "np.ones_like(matrix_1d)\n",
    "np.full_like(matrix_3d, 3)\n",
    "\n",
    "b = np.resize(matrix_3d, (3, 2))\n",
    "\n",
    "#print(a)\n",
    "#print(b)\n",
    "#print(matrix_3d)"
   ]
  },
  {
   "cell_type": "markdown",
   "id": "d3b5559a-300d-4bde-b0ed-4abd15cffaf7",
   "metadata": {},
   "source": [
    "# Свойства массивов"
   ]
  },
  {
   "cell_type": "code",
   "execution_count": 4,
   "id": "fe829873-bf64-4c4d-8b64-721efcedd84d",
   "metadata": {},
   "outputs": [
    {
     "data": {
      "text/plain": [
       "(2, 3, 4, 4)"
      ]
     },
     "execution_count": 4,
     "metadata": {},
     "output_type": "execute_result"
    }
   ],
   "source": [
    "matrix_4d.ndim # возвращает кол-во осей\n",
    "matrix_3d.size # возвращает кол-во элементов\n",
    "matrix_4d.shape # возвращает кортеж, на котором показывает, сколько элементов лежит на каждой из оси"
   ]
  },
  {
   "cell_type": "markdown",
   "id": "42b46013-333e-4a30-beab-b008c31dd019",
   "metadata": {},
   "source": [
    "# Преобразования матриц"
   ]
  },
  {
   "cell_type": "code",
   "execution_count": 5,
   "id": "00c41b1e-dbe6-43ff-a91c-34d19ee4ba3c",
   "metadata": {},
   "outputs": [],
   "source": [
    "np.mat([1, 2, 3, 4, 4]) # преобразует переданный массив в двумерную матрицу (обратите внимание на скобочки после трансформации- их стало 2))\n",
    "np.diag([1, 2, 3]) # преобразует список в диагональную матрицу\n",
    "np.diag(matrix_2d) # но если в нее передать матрицу, то она скажет что лежит на нее диагонали\n",
    "np.diagflat(matrix_2d) # превращает любой (даже двухмерный) массив в диагональную матрицу\n",
    "np.eye(4) # еденицы в качестве диагональной матрицы, где переданное число- длина диагонали по элементам\n",
    "np.eye(2, 4) # но можно задать и кортеж\n",
    "\n",
    "np.tri(3) #вернет нижнюю треугольную матрицу\n",
    "# np.tri(3, 10)\n",
    "np.tril(matrix_2d) #вернет tri из переданной матрицы (а остальное в нулях)\n",
    "np.triu(matrix_3d) #вернет верхнюю треуг. матрицу\n",
    "\n",
    "matrix_3d.reshape(1, -1) # -1, что бы не считать до конца\n",
    "matrix_2d.shape = (-1, 2)\n",
    "# print(matrix_2d)\n",
    "\n",
    "matrix_2d[2, 1] = 100\n",
    "# print(matrix_2d)\n",
    "matrix_3d[2] = 99\n",
    "# print(matrix_3d)\n",
    "\n",
    "# Когда мы присваиваем матрице с индексом какое то значение, то оно присваивается КАЖДОМУ ЭЛЕМЕНТУ на ВСЕЙ ОСИ\n",
    "\n",
    "new_arr = matrix_2d.ravel() # создает копию одномерного массива\n",
    "new_arr = matrix_2d.view() \n",
    "new_arr = matrix_2d.copy() # два вида копий"
   ]
  },
  {
   "cell_type": "markdown",
   "id": "738f385b-8a93-45cb-9e25-61c43fb22330",
   "metadata": {},
   "source": [
    "Допустим у нас есть задача- добавить к существующим 12 фотографиям (shape = (12, 128, 128, 3)) еще одно фото (128, 128, 3). По логичным правилам этого сделать просто так нельзя, что делать? Добавлять новые оси\n",
    "# Добавление осей"
   ]
  },
  {
   "cell_type": "code",
   "execution_count": 6,
   "id": "3c46a500-ed07-46f1-9d53-cc264543867a",
   "metadata": {},
   "outputs": [
    {
     "name": "stdout",
     "output_type": "stream",
     "text": [
      "[[[  0   1]\n",
      "  [  2   3]\n",
      "  [  4 100]\n",
      "  [  6   7]]] \n",
      " [[  0   1]\n",
      " [  2   3]\n",
      " [  4 100]\n",
      " [  6   7]] \n",
      "\n",
      "\n",
      "\n"
     ]
    }
   ],
   "source": [
    "new_arr = np.expand_dims(matrix_2d, axis=0) # добавляет указанную ось\n",
    "print(new_arr, '\\n', matrix_2d, '\\n\\n\\n')\n",
    "\n",
    "new_arr = matrix_2d[np.newaxis] #добавляет нулевую ось\n",
    "new_arr = matrix_2d[:, np.newaxis] #добавляет ось на месте первой оси\n",
    "new_arr = matrix_2d[np.newaxis, :, np.newaxis] #добавили нулевую ось и ось на месте первой оси\n",
    "new_arr = matrix_2d[:, :, np.newaxis] # \\/\n",
    "new_arr = matrix_2d[..., np.newaxis] #добавляет ось в конце\n",
    "\n",
    "new_arr = np.squeeze(matrix_2d) # удаляет ось, но только если она имеет не более одного элемента\n",
    "\n",
    "arr_1, arr_2, arr_3 = np.arange(9).reshape(3,3), np.arange(12).reshape(3, 4), np.arange(15).reshape(3, 5)\n",
    "arr_h = np.hstack([arr_1, arr_2, arr_3]) # складывает элементы из списка по первой оси ->\n",
    "\n",
    "arr_1, arr_2, arr_3 = np.arange(9).reshape(3,3), np.arange(12).reshape(4, 3), np.arange(15).reshape(5, 3)\n",
    "arr_v = np.vstack([arr_1, arr_2, arr_3]) #складывает по нулевой оси \\|\n",
    "\n",
    "arr_1, arr_2 = np.zeros((27, 27, 1)), np.zeros((27, 27, 1))\n",
    "arr_conca = np.concatenate([arr_1, arr_2], axis=2) #обьединяем массивы по любой оси\n",
    "\n",
    "\n",
    "\n",
    "#print(arr_h, '\\n\\n\\n')\n",
    "#print(arr_v, '\\n\\n\\n')\n",
    "#print(arr_conca.shape)"
   ]
  },
  {
   "cell_type": "markdown",
   "id": "8876affd-2a1b-4efe-a6e7-ee7d53d5b6c2",
   "metadata": {},
   "source": [
    "# Разделение осей"
   ]
  },
  {
   "cell_type": "code",
   "execution_count": 7,
   "id": "69f93d8b-da8b-4b4e-b9ee-89bc199640fe",
   "metadata": {},
   "outputs": [],
   "source": [
    "arr_1 = np.array([['x_1', 'y_1'], ['x_2', 'y_2'], ['x_3', 'y_3'], ['x_4', 'y_4']])\n",
    "arr_2 = np.split(arr_1, 2, axis=1) # позволяет разбить матрицу на (указанное число) в (указанной оси)\n",
    "# разбили исходную матрицу на две части- первая часть с x, вторая с y\n",
    "\n",
    "\n",
    "#print(arr_1.shape, '\\n', arr_1, '\\n\\n\\n')\n",
    "#print(arr_2)"
   ]
  },
  {
   "cell_type": "markdown",
   "id": "bc6328b9-8349-4f13-92da-16bfed5cdc99",
   "metadata": {},
   "source": [
    "# Добавление элементов"
   ]
  },
  {
   "cell_type": "code",
   "execution_count": 24,
   "id": "ced0f445-1471-460e-8f20-a47061c4c1c2",
   "metadata": {},
   "outputs": [
    {
     "name": "stdout",
     "output_type": "stream",
     "text": [
      "5\n"
     ]
    }
   ],
   "source": [
    "new_data = np.append(matrix_2d, matrix) # можем указать axis, но по дефолту axis = 0\n",
    "new_data = np.delete(matrix_2d, 1, axis=1) # удаляем элемент по (указанному индексу) в (указанной оси)\n",
    "\n",
    "# в качестве индекса можно указывать кортеж (список) индексов, а также срез индексирования\n",
    "new_data = np.delete(matrix, [1, 2, 3])\n",
    "new_data = np.delete(matrix, np.s_[::2]) # указывать нужно через np.s_\n",
    "\n",
    "print(new_data.size)"
   ]
  },
  {
   "cell_type": "markdown",
   "id": "aae6d7e7-4b4e-409e-a310-fe49f76b8df5",
   "metadata": {},
   "source": [
    "У вас есть задача: к 1000 картинок по очереди добавить еще 1000 картинок. Вместо того что бы использовать циклом метод append, мы можем расширить нашу матрицу методом resize с 1000 до 2000, тогда все остальное место заполнится нулями, и мы как раз начиная с 1000 будем проходиться циклом 1000+i до 2000, и заменять 1000+i = img"
   ]
  },
  {
   "cell_type": "code",
   "execution_count": 15,
   "id": "0244e816-756f-450e-8e70-26abb57a7018",
   "metadata": {},
   "outputs": [
    {
     "name": "stdout",
     "output_type": "stream",
     "text": [
      "CPU times: total: 0 ns\n",
      "Wall time: 14.5 ms\n"
     ]
    }
   ],
   "source": [
    "%%time\n",
    "\n",
    "img = np.ones((1000, 28, 28))\n",
    "img.resize((2000, 28, 28))\n",
    "\n",
    "for i in range(1000):\n",
    "    arr = np.random.randint(0, 255, 28*28).reshape([28, 28])\n",
    "    img[1000+i] = arr"
   ]
  },
  {
   "cell_type": "markdown",
   "id": "5e84a065-f13b-4240-b93f-0e6d7f905009",
   "metadata": {},
   "source": [
    "# Индексация и срезы\n",
    "она аналогична индексации в пайтон"
   ]
  },
  {
   "cell_type": "code",
   "execution_count": 36,
   "id": "1dd617ac-605f-459c-aae3-b77074e7ed0c",
   "metadata": {},
   "outputs": [
    {
     "name": "stdout",
     "output_type": "stream",
     "text": [
      "[[1 2]\n",
      " [0 0]]\n",
      "[0 0]\n"
     ]
    },
    {
     "data": {
      "text/plain": [
       "array([[[ 1,  2],\n",
       "        [ 0,  0]],\n",
       "\n",
       "       [[ 7,  7],\n",
       "        [ 0,  0]],\n",
       "\n",
       "       [[99, 99],\n",
       "        [99, 99]]])"
      ]
     },
     "execution_count": 36,
     "metadata": {},
     "output_type": "execute_result"
    }
   ],
   "source": [
    "print(matrix_3d[0])\n",
    "print(matrix_3d[0, 1]) # что бы выбрать элемент внутри элемента, нам нужно указывать через запятую [.., ..., ..,] , а не как в пайтон: arr[0][3][1]\n",
    "\n",
    "matrix_3d[1, 0] = 7 # заменяются все элементы на указанной оси\n",
    "matrix_3d[0] = [1, 2]\n",
    "\n",
    "matrix_3d[0:2, 1] = 0 # можно указывать срез нужной оси\n",
    "matrix_3d[:, 2] # взяли все элементы с конечной оси (:), и 2 ось по индексу\n",
    "matrix_3d[::2, 1:2]\n",
    "\n",
    "matrix_3d"
   ]
  },
  {
   "cell_type": "markdown",
   "id": "42cc8da6-169f-4c73-a88e-73adf51c901e",
   "metadata": {},
   "source": [
    "Списочная индексация\n",
    "(мы считаем переданный кортеж не за обозначение, в какой оси лежит какой то элемент, а считаем все числа в кортеже за индексы, тоесть мы не один элемент берем, а несколько, благодаря кортежу)"
   ]
  },
  {
   "cell_type": "code",
   "execution_count": null,
   "id": "0c348d45-60d4-41fb-9b2a-efca381d4d17",
   "metadata": {},
   "outputs": [],
   "source": [
    "a = matrix_3d[np.arange(3)] # np.arange возвращает три элемента, которые мы принимаем за три индекса\n",
    "b = matrix_3d[[1, 2], 0]\n",
    "\n",
    "index = [0, 0, 1, 2, 0]\n",
    "c = matrix_3d[index]\n",
    "\n",
    "print(a, '\\n\\n\\n', b, '\\n\\n\\n', c)"
   ]
  },
  {
   "cell_type": "markdown",
   "id": "6fdc7c3b-f30c-4e55-a865-b39147d0ddaf",
   "metadata": {},
   "source": [
    "# Математические операции"
   ]
  },
  {
   "cell_type": "code",
   "execution_count": 53,
   "id": "24bd692f-1cf7-48a2-ab79-f27c64480b9d",
   "metadata": {},
   "outputs": [
    {
     "name": "stdout",
     "output_type": "stream",
     "text": [
      "[[26 20  9 53  8]\n",
      " [26 28 74 18 10]\n",
      " [51 44 40 71 81]] база 1 \n",
      "\n",
      "\n",
      "\n",
      "[[ 3  5 10  8  3]\n",
      " [ 8  9 10  9  8]\n",
      " [ 2  3  5  6  1]] база 2 \n",
      "\n",
      "\n",
      "\n"
     ]
    },
    {
     "data": {
      "text/plain": [
       "array([[ 78, 100,  90, 424,  24],\n",
       "       [208, 252, 740, 162,  80],\n",
       "       [102, 132, 200, 426,  81]])"
      ]
     },
     "execution_count": 53,
     "metadata": {},
     "output_type": "execute_result"
    }
   ],
   "source": [
    "arr = np.random.randint(0, 101, (3, 5))\n",
    "arr_1 = np.random.randint(1, 11, (3, 5))\n",
    "\n",
    "print(arr, 'база 1', '\\n\\n\\n')\n",
    "print(arr_1, 'база 2', '\\n\\n\\n')\n",
    "\n",
    "arr + 5 # операции с числами выполняются поэлементно\n",
    "\n",
    "arr + arr_1 # операции с массивами одинакового размера\n",
    "\n",
    "arr * arr_1 # можно выполнять умножение по элементно, если это СОГЛАСОВАННЫЕ МАССИВЫ (массиввы с одинаковыми размерами)"
   ]
  },
  {
   "cell_type": "markdown",
   "id": "252e891e-2c26-4217-b200-8427969599a9",
   "metadata": {},
   "source": [
    "Согласованный или не согласованный массив?"
   ]
  },
  {
   "cell_type": "code",
   "execution_count": 54,
   "id": "8c9c627f-7322-4520-971c-c461609efa78",
   "metadata": {},
   "outputs": [],
   "source": [
    "# (2, 3) == (2, 3) <- если shape двух массивов равен, то между ними можно проводить математические операции и операции сравнения \n",
    "# (3, 2) != (2, 3)\n",
    "# (2, 3, 2) != (3, 2)"
   ]
  },
  {
   "cell_type": "markdown",
   "id": "4f880cba-b57e-4660-ae20-618da525aeb7",
   "metadata": {},
   "source": [
    "Если массивы не согласованы, то математические операции все таки можно проводить, благодаря ТРАНСЛИРОВАНИЮ"
   ]
  },
  {
   "cell_type": "markdown",
   "id": "03ed76fd-fe70-4531-aaeb-b011b6b86a4b",
   "metadata": {},
   "source": [
    "Правила транслирования:\n",
    "1. Если массивы имеют разное кол-во осей, то к массиву с меньшим кол-вом осей добавляется (автоматически слева, но можно и самому задать) новая ось, что бы кол-во осей массивов совпали.\n",
    "2. в массивах на соответствующих осях должно быть либо одинаковое кол-во элементов, либо на оси одной из массивов должен быть лишь 1 элемент "
   ]
  },
  {
   "cell_type": "code",
   "execution_count": 63,
   "id": "61a41d40-2e10-4d64-9947-88fa7708a37f",
   "metadata": {},
   "outputs": [
    {
     "data": {
      "text/plain": [
       "array([[[ 0,  2,  4,  6],\n",
       "        [ 4,  6,  8, 10],\n",
       "        [ 8, 10, 12, 14]],\n",
       "\n",
       "       [[16, 18, 20, 22],\n",
       "        [20, 22, 24, 26],\n",
       "        [24, 26, 28, 30]]])"
      ]
     },
     "execution_count": 63,
     "metadata": {},
     "output_type": "execute_result"
    }
   ],
   "source": [
    "arr = np.arange(24).reshape(2, 3, 4)\n",
    "arr_1 = np.arange(8).reshape(2, 4)\n",
    "\n",
    "arr + arr_1[:, np.newaxis]\n",
    "# arr_1.shape = (2, 1, 4)\n",
    "# arr + arr_1"
   ]
  },
  {
   "cell_type": "markdown",
   "id": "e9dcbf15-bfb0-4aaa-834d-7acc7d2b7a2f",
   "metadata": {},
   "source": [
    "# Математические операции"
   ]
  },
  {
   "cell_type": "code",
   "execution_count": 107,
   "id": "f2d7c64d-382f-49ce-af67-5a32cce96b05",
   "metadata": {},
   "outputs": [
    {
     "name": "stdout",
     "output_type": "stream",
     "text": [
      "[[ 1  2]\n",
      " [ 7  7]\n",
      " [99 99]]\n"
     ]
    },
    {
     "data": {
      "text/plain": [
       "4.58257569495584"
      ]
     },
     "execution_count": 107,
     "metadata": {},
     "output_type": "execute_result"
    }
   ],
   "source": [
    "matrix = np.array([[1., 2.], [3., 4.]])\n",
    "arr = np.arange(-5, 11, 2)\n",
    "vector1 = np.arange(10)\n",
    "vector2 = np.arange(10)\n",
    "\n",
    "arr.min()\n",
    "arr.max()\n",
    "arr.sum()\n",
    "arr.mean()\n",
    "\n",
    "np.abs(arr) # возвращает модуль всех элементов массива\n",
    "# np.log(arr) # подсчитает натуральный логарифм каждого элемента в массиве\n",
    "\n",
    "np.sin(arr)\n",
    "np.tan(arr)\n",
    "\n",
    "# Также, что бы выбрать максимальное значение не по всему массиву, а например, список макс. элементов в подмассивах, то нужно указывать axis\n",
    "print(matrix_3d.max(axis=1))\n",
    "\n",
    "\n",
    "\n",
    "\n",
    "# Скалярное произведение векторов\n",
    "np.dot(vector1, vector2)\n",
    "vector1 @ vector2\n",
    "np.inner(vector1, vector2)\n",
    "\n",
    "# Внешнее прозведение векторов (когда берется первый элемент из первого вектора, и умножается на все элементы второго, потом берется второй вектор и т.д)\n",
    "np.outer(vector1, vector2)\n",
    "\n",
    "# Произведение матриц\n",
    "np.dot(matrix, matrix)\n",
    "matrix @ matrix\n",
    "np.matmul(matrix, matrix) # Использовать предпочтительнее\n",
    "\n",
    "# Элементы линейной алгебры\n",
    "np.linalg.matrix_rank(matrix_4d)\n",
    "matrix_1 = np.linalg.inv(matrix) # Обратная матрица- если нам нужна матрица^-1, то эта функция вам в помощь\n",
    "matrix_T = matrix.T \n",
    "# np.transpose(matrix)\n",
    "np.trace(matrix) # след матрицы\n",
    "np.linalg.det(matrix) # детерминант, или определитель матрицы (матрица должна быть квадратной)\n",
    "\n",
    "# Элементы мат статистики\n",
    "np.median(arr) # Подсчитает медиану в массиве\n",
    "np.var(arr) # Дисперсия\n",
    "np.std(arr) # Стандартное отклонение"
   ]
  },
  {
   "cell_type": "markdown",
   "id": "314ecf04-92f6-4290-a42c-681e89790c8b",
   "metadata": {},
   "source": [
    "Модуль random"
   ]
  },
  {
   "cell_type": "code",
   "execution_count": null,
   "id": "093c1940-c428-41ac-82e2-63be8d96346b",
   "metadata": {},
   "outputs": [],
   "source": [
    "np.random.rand(shape)\n",
    "# Генерирует массив случайных вещественных чисел в диапазоне [0, 1) с указанной формой. Например, np.random.rand(3, 4) генерирует массив 3x4 случайных чисел между 0 и 1.\n",
    "\n",
    "np.random.randn(shape)\n",
    "#Генерирует массив случайных вещественных чисел из нормального распределения (гауссовского распределения) с математическим ожиданием 0 и стандартным отклонением 1. \n",
    "# Форма выходного массива определяется входными аргументами. Например, np.random.randn(3, 4) генерирует массив 3x4 случайных чисел из нормального распределения.\n",
    "\n",
    "np.random.randint(low, high, size)\n",
    "# Генерирует массив случайных целых чисел в диапазоне [low, high) с указанным размером. Например, np.random.randint(1, 10, 5) генерирует массив 5 случайных целых чисел между 1 и 10.\n",
    "\n",
    "np.random.normal(loc, scale, size)\n",
    "# Генерирует массив случайных вещественных чисел из нормального распределения с указанным местоположением (математическим ожиданием), масштабом (стандартным отклонением) и размером.\n",
    "# Например, np.random.normal(0, 1, 5) генерирует массив 5 случайных чисел из нормального распределения с математическим ожиданием 0 и стандартным отклонением 1.\n",
    "\n",
    "np.random.permutation(arr/n)\n",
    "# Возвращает либо перемешанный массив, либо перемешанную последовательность от 0 до n"
   ]
  },
  {
   "cell_type": "markdown",
   "id": "487d0fcc-d790-4db0-b62a-2ec17112a502",
   "metadata": {},
   "source": [
    "Методы сравнения"
   ]
  },
  {
   "cell_type": "code",
   "execution_count": 102,
   "id": "d6a49038-f914-4c6e-938b-ebb4f5decfcb",
   "metadata": {},
   "outputs": [
    {
     "name": "stdout",
     "output_type": "stream",
     "text": [
      "[11 12 13 14 15 16 17 18 19 20 21 22 23 24 25 26 27 28 29 30 31 32 33 34\n",
      " 35 36 37 38 39 40 41 42 43 44 45 46 47 48 49 50 51 52 53 54 55 56 57 58\n",
      " 59 60 61 62 63 64 65 66 67 68 69 70 71 72 73 74 75 76 77 78 79 80 81 82\n",
      " 83 84 85 86 87 88 89 90 91 92 93 94 95]\n"
     ]
    },
    {
     "data": {
      "text/plain": [
       "True"
      ]
     },
     "execution_count": 102,
     "metadata": {},
     "output_type": "execute_result"
    }
   ],
   "source": [
    "print(matrix_4d[matrix_4d > 10]) # можем сделать выборку, где каждый элемент больше 10\n",
    "\n",
    "np.all(matrix < 10)\n",
    "np.any(matrix < 10)"
   ]
  },
  {
   "cell_type": "code",
   "execution_count": null,
   "id": "7481204c-d09f-4387-80c9-025cc5d52bc9",
   "metadata": {},
   "outputs": [],
   "source": []
  }
 ],
 "metadata": {
  "kernelspec": {
   "display_name": "Python 3 (ipykernel)",
   "language": "python",
   "name": "python3"
  },
  "language_info": {
   "codemirror_mode": {
    "name": "ipython",
    "version": 3
   },
   "file_extension": ".py",
   "mimetype": "text/x-python",
   "name": "python",
   "nbconvert_exporter": "python",
   "pygments_lexer": "ipython3",
   "version": "3.12.3"
  }
 },
 "nbformat": 4,
 "nbformat_minor": 5
}
